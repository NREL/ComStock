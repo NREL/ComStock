{
 "cells": [
  {
   "cell_type": "code",
   "execution_count": 1,
   "id": "0c9df20f-ff45-4155-be88-9f01ba9a19a1",
   "metadata": {},
   "outputs": [],
   "source": [
    "import polars as pl"
   ]
  },
  {
   "cell_type": "code",
   "execution_count": 3,
   "id": "d0cee4b9-a0fc-4fb0-8d99-70b86ba92a5f",
   "metadata": {},
   "outputs": [],
   "source": [
    "lf = pl.DataFrame(\n",
    "    {\n",
    "        \"a\": [\"one\", \"two\", \"one\", \"two\"],\n",
    "        \"b\": [1, 2, 3, 4],\n",
    "    }\n",
    ").lazy()"
   ]
  },
  {
   "cell_type": "code",
   "execution_count": 22,
   "id": "1dddd125-974d-4d8d-9cb8-d8bcb745fd75",
   "metadata": {},
   "outputs": [
    {
     "data": {
      "text/html": [
       "<div><style>\n",
       ".dataframe > thead > tr,\n",
       ".dataframe > tbody > tr {\n",
       "  text-align: right;\n",
       "  white-space: pre-wrap;\n",
       "}\n",
       "</style>\n",
       "<small>shape: (4, 2)</small><table border=\"1\" class=\"dataframe\"><thead><tr><th>a</th><th>b</th></tr><tr><td>str</td><td>i64</td></tr></thead><tbody><tr><td>&quot;one&quot;</td><td>1</td></tr><tr><td>&quot;two&quot;</td><td>2</td></tr><tr><td>&quot;one&quot;</td><td>3</td></tr><tr><td>&quot;two&quot;</td><td>4</td></tr></tbody></table></div>"
      ],
      "text/plain": [
       "shape: (4, 2)\n",
       "┌─────┬─────┐\n",
       "│ a   ┆ b   │\n",
       "│ --- ┆ --- │\n",
       "│ str ┆ i64 │\n",
       "╞═════╪═════╡\n",
       "│ one ┆ 1   │\n",
       "│ two ┆ 2   │\n",
       "│ one ┆ 3   │\n",
       "│ two ┆ 4   │\n",
       "└─────┴─────┘"
      ]
     },
     "execution_count": 22,
     "metadata": {},
     "output_type": "execute_result"
    }
   ],
   "source": [
    "df = pl.DataFrame(\n",
    "    {\n",
    "        \"a\": [\"one\", \"two\", \"one\", \"two\"],\n",
    "        \"b\": [1, 2, 3, 4],\n",
    "    }\n",
    ")\n",
    "df"
   ]
  },
  {
   "cell_type": "code",
   "execution_count": 23,
   "id": "4eeb6f28-baab-4cf7-9bc0-5f290d38e6ae",
   "metadata": {},
   "outputs": [
    {
     "name": "stdout",
     "output_type": "stream",
     "text": [
      "one\n",
      "one shape: (2, 2)\n",
      "┌─────┬─────┐\n",
      "│ a   ┆ b   │\n",
      "│ --- ┆ --- │\n",
      "│ str ┆ i64 │\n",
      "╞═════╪═════╡\n",
      "│ one ┆ 1   │\n",
      "│ one ┆ 3   │\n",
      "└─────┴─────┘\n",
      "two\n",
      "two shape: (2, 2)\n",
      "┌─────┬─────┐\n",
      "│ a   ┆ b   │\n",
      "│ --- ┆ --- │\n",
      "│ str ┆ i64 │\n",
      "╞═════╪═════╡\n",
      "│ two ┆ 2   │\n",
      "│ two ┆ 4   │\n",
      "└─────┴─────┘\n"
     ]
    },
    {
     "name": "stderr",
     "output_type": "stream",
     "text": [
      "/var/folders/ly/g550b94s7zl51thw7x1fh6lrgswmm1/T/ipykernel_34247/1131041388.py:1: DeprecationWarning: `group_by` iteration will change to always return group identifiers as tuples. Pass `by` as a list to silence this warning, e.g. `group_by(['a'])`.\n",
      "  for a,b in df.group_by(\"a\"):\n"
     ]
    }
   ],
   "source": [
    "for a,b in df.group_by(\"a\"):\n",
    "    print(a)\n",
    "    \n",
    "    print(a,b )"
   ]
  },
  {
   "cell_type": "code",
   "execution_count": 27,
   "id": "21171fb2-8d13-4374-80d9-2c729eb8d4de",
   "metadata": {},
   "outputs": [
    {
     "ename": "AttributeError",
     "evalue": "'LazyFrame' object has no attribute 'to_list'",
     "output_type": "error",
     "traceback": [
      "\u001b[0;31m---------------------------------------------------------------------------\u001b[0m",
      "\u001b[0;31mAttributeError\u001b[0m                            Traceback (most recent call last)",
      "Cell \u001b[0;32mIn[27], line 1\u001b[0m\n\u001b[0;32m----> 1\u001b[0m \u001b[38;5;28;01mfor\u001b[39;00m a \u001b[38;5;129;01min\u001b[39;00m \u001b[43mlf\u001b[49m\u001b[38;5;241;43m.\u001b[39;49m\u001b[43mgroup_by\u001b[49m\u001b[43m(\u001b[49m\u001b[38;5;124;43m\"\u001b[39;49m\u001b[38;5;124;43ma\u001b[39;49m\u001b[38;5;124;43m\"\u001b[39;49m\u001b[43m)\u001b[49m\u001b[38;5;241;43m.\u001b[39;49m\u001b[43mall\u001b[49m\u001b[43m(\u001b[49m\u001b[43m)\u001b[49m\u001b[38;5;241;43m.\u001b[39;49m\u001b[43mto_list\u001b[49m():\n\u001b[1;32m      2\u001b[0m     \u001b[38;5;28mprint\u001b[39m(a\u001b[38;5;241m.\u001b[39mcollect())\n",
      "\u001b[0;31mAttributeError\u001b[0m: 'LazyFrame' object has no attribute 'to_list'"
     ]
    }
   ],
   "source": [
    "for a in lf.group_by(\"a\").all().to_list():\n",
    "    print(a.collect())"
   ]
  },
  {
   "cell_type": "code",
   "execution_count": 28,
   "id": "927ac796-700b-423c-a4a2-563d06de59ab",
   "metadata": {},
   "outputs": [],
   "source": [
    "a: str = 2"
   ]
  },
  {
   "cell_type": "code",
   "execution_count": 29,
   "id": "78cc47b4-87c3-42fb-8ba8-3d6c45fc6665",
   "metadata": {},
   "outputs": [
    {
     "data": {
      "text/plain": [
       "2"
      ]
     },
     "execution_count": 29,
     "metadata": {},
     "output_type": "execute_result"
    }
   ],
   "source": [
    "a"
   ]
  },
  {
   "cell_type": "code",
   "execution_count": 30,
   "id": "ef2dd0f8-cb03-4fea-b533-164dcf9125ab",
   "metadata": {},
   "outputs": [
    {
     "name": "stdout",
     "output_type": "stream",
     "text": [
      "<class 'int'>\n"
     ]
    }
   ],
   "source": [
    "print(type(a))"
   ]
  },
  {
   "cell_type": "code",
   "execution_count": null,
   "id": "b9ba172e-10b8-49d1-a04d-af4c6aef82c0",
   "metadata": {},
   "outputs": [],
   "source": []
  }
 ],
 "metadata": {
  "kernelspec": {
   "display_name": "Python 3 (ipykernel)",
   "language": "python",
   "name": "python3"
  },
  "language_info": {
   "codemirror_mode": {
    "name": "ipython",
    "version": 3
   },
   "file_extension": ".py",
   "mimetype": "text/x-python",
   "name": "python",
   "nbconvert_exporter": "python",
   "pygments_lexer": "ipython3",
   "version": "3.9.19"
  }
 },
 "nbformat": 4,
 "nbformat_minor": 5
}
