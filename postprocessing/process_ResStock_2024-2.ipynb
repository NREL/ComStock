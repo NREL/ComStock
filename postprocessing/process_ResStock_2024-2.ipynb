{
 "cells": [
  {
   "cell_type": "code",
   "execution_count": 8,
   "metadata": {},
   "outputs": [],
   "source": [
    "import pandas as pd\n",
    "import os"
   ]
  },
  {
   "cell_type": "markdown",
   "metadata": {},
   "source": [
    "## Prepare Utility Bill Inputs\n",
    "This is heavily encouraged due to the error in the utility bills in this particular dataset"
   ]
  },
  {
   "cell_type": "markdown",
   "metadata": {},
   "source": [
    "#### Option 1: Use Default Utility Rates\n",
    "From ResStock Dataset 2024.2 Documentation"
   ]
  },
  {
   "cell_type": "code",
   "execution_count": null,
   "metadata": {},
   "outputs": [],
   "source": [
    "####Prepare utility rates from ResStock 2024.2 documentation\n",
    "\n",
    "##Inputs\n",
    "#Electricity\n",
    "fixed_elec_cost_monthly = 10\n",
    "var_elec_cost_per_kwh = 0.136613018 #this is for PA\n",
    "#look up other states here: https://nrel.github.io/ResStock.github.io/docs/resources/explanations/Issue_2024_2_Electricity_and_Energy_Bills.html\n",
    "\n",
    "#Natural Gas\n",
    "fixed_ng_cost_monthly = 11.25\n",
    "var_ng_cost_per_kwh = 0.03268850625538582 #this is for PA\n",
    "#look up other states here: https://github.com/NREL/resstock/blob/eussrr2/resources/data/simple_rates/State.tsv\n",
    "#note NG is in $/therm at the link\n",
    "\n",
    "#Fuel Oil\n",
    "var_fo_cost_per_kwh = 0.07041247888248318 #this is for PA\n",
    "#look up other states here: https://github.com/NREL/resstock/blob/eussrr2/resources/data/simple_rates/State.tsv\n",
    "# ote propane and fuel oil are in $/gallon at the link\n",
    "\n",
    "#Propane\n",
    "var_propane_cost_per_kwh = 0.10145591100203372 #this is for PA\n",
    "#look up other states here: https://github.com/NREL/resstock/blob/eussrr2/resources/data/simple_rates/State.tsv\n",
    "#note propane and fuel oil are in $/gallon at the link)\n"
   ]
  },
  {
   "cell_type": "markdown",
   "metadata": {},
   "source": [
    "#### Option 2: Use Custom Annual Utility Rates\n",
    "This is currently specific to C2C DV and the units that project team provideed the utility rates in, but it can be readily customized for other rates and other units."
   ]
  },
  {
   "cell_type": "code",
   "execution_count": 11,
   "metadata": {},
   "outputs": [
    {
     "name": "stdout",
     "output_type": "stream",
     "text": [
      "0.0491440437526616\n",
      "0.06998572515142275\n",
      "0.10145591100203372\n"
     ]
    }
   ],
   "source": [
    "####Prepare the C2C Delaware Valley project utility rates\n",
    "\n",
    "##Inputs\n",
    "#Electricity\n",
    "fixed_elec_cost_monthly = 10.56\n",
    "var_elec_cost_per_kwh = 0.17404\n",
    "\n",
    "#Natural Gas\n",
    "fixed_ng_cost_monthly = 16.25\n",
    "var_ng_cost_per_ccf = 1.495\n",
    "\n",
    "#Fuel Oil\n",
    "var_fo_cost_per_gal = 2.851\n",
    "\n",
    "#Propane\n",
    "var_propane_cost_per_gal = 2.723615385#3.199\n",
    "\n",
    "##Unit Conversions\n",
    "gal_fuel_oil_to_mbtu = 139/1000\n",
    "gal_propane_to_mbtu = 91.6 / 1000\n",
    "mbtu_to_kwh = 293.0710701722222\n",
    "dol_per_ccf_to_dol_per_therm = 1/1.038 #$ per Ccf divided by 1.038 equals $ per therm https://www.eia.gov/tools/faqs/faq.php?id=45&t=8\n",
    "therm_to_kwh = 29.307107017222222\n",
    "\n",
    "var_ng_cost_per_kwh = var_ng_cost_per_ccf * (dol_per_ccf_to_dol_per_therm) * (1/therm_to_kwh)\n",
    "var_fo_cost_per_kwh = var_fo_cost_per_gal * (1/gal_fuel_oil_to_mbtu) * (1/mbtu_to_kwh)\n",
    "var_propane_cost_per_kwh = var_propane_cost_per_gal * (1/gal_propane_to_mbtu) * (1/mbtu_to_kwh)\n",
    "\n",
    "print(var_ng_cost_per_kwh) #cf 0.034/kwh\n",
    "print(var_fo_cost_per_kwh) #cf 0.070/kwh\n",
    "print(var_propane_cost_per_kwh) #cf 0.101/kWh"
   ]
  },
  {
   "cell_type": "markdown",
   "metadata": {},
   "source": [
    "#### Assemble Utility Rates Inputs for Data Processing"
   ]
  },
  {
   "cell_type": "code",
   "execution_count": 12,
   "metadata": {},
   "outputs": [],
   "source": [
    "rates_data_inputs = [\n",
    "    [\"out.bills_local.electricity.total.usd\", fixed_elec_cost_monthly, var_elec_cost_per_kwh, [\"out.electricity.total.energy_consumption.kwh\"], \n",
    "     \"out.x\", \"pivot\", \"Utility Bills\", \"Electricity\", \"Electricity Total\", \"Total\"],\n",
    "    [\"out.bills_local.natural_gas.total.usd\", fixed_ng_cost_monthly, var_ng_cost_per_kwh, [\"out.natural_gas.total.energy_consumption.kwh\"], \n",
    "     \"out.x\", \"pivot\", \"Utility Bills\", \"Natural Gas\", \"Natural Gas Total\", \"Total\"],\n",
    "    [\"out.bills_local.fuel_oil.total.usd\", 0, var_fo_cost_per_kwh, [\"out.fuel_oil.total.energy_consumption.kwh\"], \n",
    "     \"out.x\", \"pivot\", \"Utility Bills\", \"Fuel Oil\", \"Fuel Oil Total\", \"Total\"],\n",
    "    [\"out.bills_local.propane.total.usd\", 0, var_propane_cost_per_kwh, [\"out.propane.total.energy_consumption.kwh\"], \n",
    "     \"out.x\", \"pivot\", \"Utility Bills\", \"Propane\", \"Total\", \"Total\"],\n",
    "    [\"out.bills_local.all_fuels.total.usd\", 0, 1, [\"out.bills_local.electricity.total.usd\", \"out.bills_local.natural_gas.total.usd\", \"out.bills_local.fuel_oil.total.usd\", \"out.bills_local.propane.total.usd\"], \n",
    "     \"out.x\", \"pivot\", \"Utility Bill Totals\", \"Energy\", \"Total\", \"Total\"],\n",
    "    [\"out.bills_local.electricity.total.usd.savings\", 0, var_elec_cost_per_kwh, [\"out.electricity.total.energy_consumption.kwh.savings\"], \n",
    "     \"out.x\", \"pivot\", \"Utility Bills\", \"Electricity\", \"Electricity Total\", \"Total\"],\n",
    "    [\"out.bills_local.natural_gas.total.usd.savings\", fixed_ng_cost_monthly, var_ng_cost_per_kwh, [\"out.natural_gas.total.energy_consumption.kwh.savings\"], \n",
    "     \"out.x\", \"pivot\", \"Utility Bill Savings\", \"Natural Gas\", \"Natural Gas Total\", \"Total\"],\n",
    "    [\"out.bills_local.fuel_oil.total.usd.savings\", 0, var_fo_cost_per_kwh, [\"out.fuel_oil.total.energy_consumption.kwh.savings\"], \n",
    "     \"out.x\", \"pivot\", \"Utility Bill Savings\", \"Fuel Oil\", \"Fuel Oil Total\", \"Total\"],\n",
    "    [\"out.bills_local.propane.total.usd.savings\", 0, var_propane_cost_per_kwh, [\"out.propane.total.energy_consumption.kwh.savings\"], \n",
    "     \"out.x\", \"pivot\", \"Utility Bill Savings\", \"Propane\", \"Propane Total\", \"Total\"],\n",
    "    [\"out.bills_local.all_fuels.total.usd.savings\", 0, 1, [\"out.bills_local.electricity.total.usd.savings\", \"out.bills_local.natural_gas.total.usd.savings\", \"out.bills_local.fuel_oil.total.usd.savings\", \"out.bills_local.propane.total.usd.savings\"], \n",
    "     \"out.x\", \"pivot\", \"Utility Bills Savings Totals\", \"Energy\", \"Total\", \"Total\"]\n",
    "]\n",
    "\n",
    "one_year_bill_savings_col = \"out.bills_local.all_fuels.total.usd.savings\" #this is for NPV calculations, not utility bill calculations\n",
    "rate_inputs_df = pd.DataFrame(rates_data_inputs, columns = ['column', 'fixed monthly cost', 'variable cost per kwh', 'col list for scaling', 'col_type', 'plan', 'Result Type', 'Fuel', 'End Use', 'End Use Category'])\n"
   ]
  },
  {
   "cell_type": "markdown",
   "metadata": {},
   "source": [
    "## Prepare Upgrade Cost Inputs"
   ]
  },
  {
   "cell_type": "code",
   "execution_count": 14,
   "metadata": {},
   "outputs": [],
   "source": [
    "##load ICF cost data and location info\n",
    "\n",
    "cost_data_folder = \"C:/Users/epresent/NREL/BuildStock Analysis User Engagement-C2C Delaware - Documents/10_Analysis/Cost Data\"\n",
    "\n",
    "cost_file_location_value_match = ['Bucks County', 'Montgomery County', 'Chester County', 'Delaware County']\n",
    "cost_file_location_field_match = ['in.county_name', 'in.county_name', 'in.county_name', 'in.county_name']\n",
    "cost_file_name_list = ['NREL_Package Upgrade Costing_Doylestown_20250220.xlsx', \n",
    "                       'NREL_Package Upgrade Costing_Doylestown_20250220.xlsx',\n",
    "                       'NREL_Package Upgrade Costing_West Chester_20250220.xlsx',\n",
    "                       'NREL_Package Upgrade Costing_West Chester_20250220.xlsx']\n",
    "cost_file_location_list = ['Doylestown', 'Doylestown', 'West Chester', 'West Chester']\n",
    "\n",
    "cost_inputs = []\n",
    "for file, location, location_field, location_value in zip(\n",
    "    cost_file_name_list, cost_file_location_list, cost_file_location_field_match, cost_file_location_value_match):\n",
    "    filepath = os.path.join(cost_data_folder, file)\n",
    "    cost_data = pd.read_excel(filepath, sheet_name = \"Python 1-16\")\n",
    "    cost_data[\"Location\"] = location\n",
    "    cost_data[\"Location Field Match\"] = location_field\n",
    "    cost_data[\"Location Value Match\"] = location_value\n",
    "    cost_inputs = cost_inputs + [cost_data]\n",
    "\n",
    "first_costs_inputs_df = pd.concat(cost_inputs, ignore_index=True)\n",
    "\n",
    "#the rest is handled in the Class - lots of hard-coding. Take a look if you are doing a new location."
   ]
  },
  {
   "cell_type": "markdown",
   "metadata": {},
   "source": [
    "## Set Up Other Necessary Inputs"
   ]
  },
  {
   "cell_type": "code",
   "execution_count": 15,
   "metadata": {},
   "outputs": [],
   "source": [
    "##set up other variables need to process the data\n",
    "#OK to skip anything that will not be run\n",
    "resstock_results_folder = \"C:/Users/epresent/NREL/BuildStock Analysis User Engagement-C2C Delaware - Documents/10_Analysis/Data/2024.2/AMY2018\"\n",
    "downselect_row_fields = [\"in.county_name\"]\n",
    "values_to_keep = [[\"Montgomery County\", \"Bucks County\", \"Chester County\", \"Delaware County\"]]\n",
    "testing_size = 5 #if you are testing, do it on just a few rows\n",
    "col_plan_folder = 'C:/Users/epresent/NREL/BuildStock Analysis User Engagement-C2C Delaware - Documents/10_Analysis/Upgrade (4.3)'\n",
    "col_plan_name = '2024-2 Col Plan including C2C DV Upgrades.csv'\n",
    "outname_header = 'PA'\n",
    "additional_columns_to_remove = []\n",
    "wide_cols_also_long = [\"out.emissions.all_fuels.lrmer_mid_case_15.co2e_kg\", \"out.bills_local.all_fuels.total.usd\"]\n",
    "wide_cols_also_long_names = [\"Emissions\", \"Utility Bills Total\"],"
   ]
  },
  {
   "cell_type": "markdown",
   "metadata": {},
   "source": [
    "## Import the Class"
   ]
  },
  {
   "cell_type": "code",
   "execution_count": 16,
   "metadata": {},
   "outputs": [
    {
     "ename": "IndentationError",
     "evalue": "expected an indented block (process_ResStock_2024_2.py, line 218)",
     "output_type": "error",
     "traceback": [
      "Traceback \u001b[1;36m(most recent call last)\u001b[0m:\n",
      "\u001b[0m  File \u001b[0;32mc:\\Users\\epresent\\AppData\\Local\\anaconda3\\envs\\comstockpostproc\\lib\\site-packages\\IPython\\core\\interactiveshell.py:3550\u001b[0m in \u001b[0;35mrun_code\u001b[0m\n    exec(code_obj, self.user_global_ns, self.user_ns)\u001b[0m\n",
      "\u001b[1;36m  Cell \u001b[1;32mIn[16], line 2\u001b[1;36m\n\u001b[1;33m    from process_ResStock_2024_2 import process_ResStock_2024_2\u001b[1;36m\n",
      "\u001b[1;36m  File \u001b[1;32mc:\\Users\\epresent\\Documents\\GitHub\\ComStock\\postprocessing\\process_ResStock_2024_2.py:218\u001b[1;36m\u001b[0m\n\u001b[1;33m    def categorize_outputs(self):\u001b[0m\n\u001b[1;37m    ^\u001b[0m\n\u001b[1;31mIndentationError\u001b[0m\u001b[1;31m:\u001b[0m expected an indented block\n"
     ]
    }
   ],
   "source": [
    "##import the class \n",
    "from process_ResStock_2024_2 import process_ResStock_2024_2"
   ]
  },
  {
   "cell_type": "markdown",
   "metadata": {},
   "source": [
    "## Process the Data\n",
    "#### This loops through the list of data, one dataset at a time"
   ]
  },
  {
   "cell_type": "code",
   "execution_count": null,
   "metadata": {},
   "outputs": [
    {
     "name": "stdout",
     "output_type": "stream",
     "text": [
      "baseline\n",
      "23059\n",
      "4097\n"
     ]
    }
   ],
   "source": [
    "##process the data\n",
    "up_list = [\"baseline\"]#[\"baseline\", \"upgrade02\", \"upgrade04\", \"upgrade07\", \"upgrade09\", \"upgrade12\", \"upgrade13\", \"upgrade16\"]\n",
    "processed_data = []\n",
    "for up in up_list:\n",
    "    print (up)\n",
    "    resstock_file_name = \"PA_\" + up + \"_metadata_and_annual_results.csv\"\n",
    "    outname = outname_header + \"_\" + up + \"processed_results.csv\"\n",
    "    dataset_process = process_ResStock_2024_2(resstock_results_folder, resstock_file_name)\n",
    "    dataset_process.downselect_rows(downselect_row_fields, values_to_keep)\n",
    "    #dataset_process.make_data_testing_size(testing_size) #shrink the data to a smaller number of rows for testing\n",
    "    dataset_process.load_and_process_column_plan(col_plan_folder, col_plan_name)\n",
    "    dataset_process.add_local_bills(rate_inputs_df)\n",
    "    dataset_process.add_first_costs(first_costs_inputs_df)\n",
    "    #dataset_process.add_additional_wide_fields(addl_wide_fields_df) #None needed for C2C DV\n",
    "    dataset_process.downselect_columns(additional_columns_to_remove)\n",
    "    dataset_process.pivot_data()\n",
    "    #dataset_process.add_additional_long_fields(addl_long_fields_df) #None needed for C2C DV\n",
    "    dataset_process.categorize_outputs()\n",
    "    dataset_process.wide_fields_also_long(wide_cols_also_long, wide_cols_also_long_names)\n",
    "    dataset_process.add_weighted_values_column()\n",
    "    processed_data = processed_data + [dataset_process.data_long]\n"
   ]
  },
  {
   "cell_type": "markdown",
   "metadata": {},
   "source": [
    "## Save Processed Data"
   ]
  },
  {
   "cell_type": "code",
   "execution_count": null,
   "metadata": {},
   "outputs": [],
   "source": [
    "#save multiple sets of processed data \n",
    "\n",
    "##set destination\n",
    "output_folder = \"C:/Users/epresent/NREL/BuildStock Analysis User Engagement-C2C Delaware - Documents/10_Analysis/Upgrade (4.3)\"\n",
    "output_file_name = \"ResStock_long_v5_4counties.csv\"\n",
    "output_path = os.path.join(output_folder, output_file_name)\n",
    "\n",
    "#save first set of data, with headers\n",
    "processed_data[0].to_csv(output_path, header = True, index = False)\n",
    "print(processed_data[0][\"upgrade\"][0])\n",
    "\n",
    "#save remaining data, appending it to the same file. \n",
    "#This works since all the datasets are forced to have the same set of columns in the same order.\n",
    "for dataset in processed_data[1:]:\n",
    "    print(dataset[\"upgrade\"][0])\n",
    "    dataset.to_csv(output_path, header = False, index = False, mode = 'a')"
   ]
  }
 ],
 "metadata": {
  "kernelspec": {
   "display_name": "comstockpostproc",
   "language": "python",
   "name": "python3"
  },
  "language_info": {
   "codemirror_mode": {
    "name": "ipython",
    "version": 3
   },
   "file_extension": ".py",
   "mimetype": "text/x-python",
   "name": "python",
   "nbconvert_exporter": "python",
   "pygments_lexer": "ipython3",
   "version": "3.9.20"
  }
 },
 "nbformat": 4,
 "nbformat_minor": 2
}
