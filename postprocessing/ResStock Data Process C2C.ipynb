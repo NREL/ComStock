{
 "cells": [
  {
   "cell_type": "code",
   "execution_count": 1,
   "metadata": {},
   "outputs": [],
   "source": [
    "###import comstockpostproc-standard things, and then don't use most of them\n",
    "\n",
    "import os\n",
    "from textwrap import indent\n",
    "\n",
    "import boto3\n",
    "import logging\n",
    "import numpy as np\n",
    "import pandas as pd\n",
    "\n",
    "from comstockpostproc.resstock_naming_mixin_LARGEE import ResStockNamingMixin\n",
    "from comstockpostproc.units_mixin import UnitsMixin\n",
    "from comstockpostproc.s3_utilities_mixin import S3UtilitiesMixin\n",
    "from comstockpostproc import resstock_LARGEE\n",
    "\n",
    "logger = logging.getLogger(__name__)"
   ]
  },
  {
   "cell_type": "code",
   "execution_count": 2,
   "metadata": {},
   "outputs": [],
   "source": [
    "### specify (most) inputs\n",
    "resstock_results_folder = \"C:/Users/epresent/NREL/BuildStock Analysis User Engagement-C2C Delaware - Documents/10_Analysis/Data/2024.2/AMY2018\"\n",
    "col_plan_folder = 'C:/Users/epresent/NREL/BuildStock Analysis User Engagement-C2C Delaware - Documents/10_Analysis/Baseline (4.2)'\n",
    "output_folder = \"C:/Users/epresent/NREL/BuildStock Analysis User Engagement-C2C Delaware - Documents/10_Analysis/Baseline (4.2)\"\n",
    "\n",
    "results_file_name = \"PA_baseline_metadata_and_annual_results.csv\"\n",
    "col_plan_name = 'Column Plan.csv'\n",
    "output_file_name = 'ResStock_long_v4_PA.csv'\n",
    "\n",
    "downselect_row_fields = [\"in.county_name\"]\n",
    "values_to_keep = [[\"Montgomery County\", \"Bucks County\", \"Chester County\", \"Delaware County\"]]"
   ]
  },
  {
   "cell_type": "code",
   "execution_count": 3,
   "metadata": {},
   "outputs": [],
   "source": [
    "###load results from already-downloaded OEDI file\n",
    "results_file_path = os.path.join(resstock_results_folder, results_file_name)\n",
    "data = pd.read_csv(results_file_path, engine=\"pyarrow\")"
   ]
  },
  {
   "cell_type": "code",
   "execution_count": 4,
   "metadata": {},
   "outputs": [],
   "source": [
    "### Downselect rows\n",
    "for field, values in zip(downselect_row_fields, values_to_keep):\n",
    "    data = data.loc[data[field].isin(values)]"
   ]
  },
  {
   "cell_type": "code",
   "execution_count": null,
   "metadata": {},
   "outputs": [],
   "source": [
    "### Add general fields"
   ]
  },
  {
   "cell_type": "code",
   "execution_count": 4,
   "metadata": {},
   "outputs": [],
   "source": [
    "###make plan for each column\n",
    "\n",
    "# load column plan\n",
    "plan_file_path = os.path.join(col_plan_folder, col_plan_name)\n",
    "col_plan = pd.read_csv(plan_file_path, engine = \"pyarrow\")\n",
    "#create lists of columns\n",
    "cols_to_remove = col_plan.loc[col_plan['plan']=='remove', 'column'].tolist()\n",
    "cols_wide = col_plan.loc[col_plan['plan']=='keep', 'column'].tolist()\n",
    "cols_to_pivot = col_plan.loc[col_plan['plan']=='pivot', 'column'].tolist()"
   ]
  },
  {
   "cell_type": "code",
   "execution_count": 5,
   "metadata": {},
   "outputs": [],
   "source": [
    "#remove unneccsary columns\n",
    "data.drop(data[cols_to_remove], axis = 1, inplace = True)"
   ]
  },
  {
   "cell_type": "code",
   "execution_count": 6,
   "metadata": {},
   "outputs": [],
   "source": [
    "###add project-specific long fields\n",
    "\n",
    "##project-specific utility bills - inputs\n",
    "#Electricity\n",
    "fixed_elec_cost_monthly = 10.56\n",
    "var_elec_cost_per_kwh = 0.17404 #cf 0.137/kwh\n",
    "\n",
    "#Natural Gas\n",
    "fixed_ng_cost_monthly = 16.25\n",
    "var_ng_cost_per_ccf = 1.495\n",
    "\n",
    "#Fuel Oil\n",
    "var_fo_cost_per_gal = 2.851\n",
    "\n",
    "#Propane\n",
    "var_propane_cost_per_gal = 3.199\n",
    "\n",
    "\n",
    "##project-specific utility bills - unit conversions\n",
    "gal_fuel_oil_to_mbtu = 139/1000\n",
    "gal_propane_to_mbtu = 91.6 / 1000\n",
    "mbtu_to_kwh = 293.0710701722222\n",
    "dol_per_ccf_to_dol_per_therm = 1/1.038 #$ per Ccf divided by 1.038 equals $ per therm https://www.eia.gov/tools/faqs/faq.php?id=45&t=8\n",
    "therm_to_kwh = 29.307107017222222\n",
    "\n",
    "var_ng_cost_per_kwh = var_ng_cost_per_ccf * (dol_per_ccf_to_dol_per_therm) * (1/therm_to_kwh)\n",
    "var_fo_cost_per_kwh = var_fo_cost_per_gal * (1/gal_fuel_oil_to_mbtu) * (1/mbtu_to_kwh)\n",
    "var_propane_cost_per_kwh = var_propane_cost_per_gal * (1/gal_propane_to_mbtu) * (1/mbtu_to_kwh)\n",
    "\n",
    "#print(var_ng_cost_per_kwh) #0.011423113848862812, cf 0.0339307/kwh\n",
    "#print(var_fo_cost_per_kwh) #0.06998572515142275, cf 0.0704125/kwh\n",
    "#print(var_propane_cost_per_kwh) #0.11916420397790706. cf 0.101456/kWh\n",
    "\n",
    "##project-specific utility bills - calculations and add to dataset\n",
    "data[\"out.bills_local.electricity.total.usd\"] = (fixed_elec_cost_monthly*12) + (var_elec_cost_per_kwh * data[\"out.electricity.total.energy_consumption.kwh\"])\n",
    "data[\"out.bills_local.natural_gas.total.usd\"] = (fixed_ng_cost_monthly*12) + (var_ng_cost_per_kwh * data[\"out.natural_gas.total.energy_consumption.kwh\"])\n",
    "data[\"out.bills_local.fuel_oil.total.usd\"] = (var_fo_cost_per_kwh * data[\"out.fuel_oil.total.energy_consumption.kwh\"])\n",
    "data[\"out.bills_local.propane.total.usd\"] = (var_propane_cost_per_kwh * data[\"out.propane.total.energy_consumption.kwh\"])\n",
    "data[\"out.bills_local.all_fuels.total.usd\"] = data[\"out.bills_local.electricity.total.usd\"] + data[\"out.bills_local.natural_gas.total.usd\"] + data[\"out.bills_local.fuel_oil.total.usd\"] + data[\"out.bills_local.propane.total.usd\"]\n",
    "\n",
    "##add new fields to column plan\n",
    "cols_to_pivot = cols_to_pivot + [\"out.bills_local.electricity.total.usd\", \"out.bills_local.natural_gas.total.usd\", \"out.bills_local.fuel_oil.total.usd\", \"out.bills_local.propane.total.usd\",\n",
    "                                 \"out.bills_local.all_fuels.total.usd\"]\n",
    "plan_for_new_cols = [\n",
    "    [\"out.bills_local.electricity.total.usd\", \"out.x\", \"keep\", \"Utility Bills\", \"Electricity\", \"Electricity Total\", \"Total\"],\n",
    "    [\"out.bills_local.natural_gas.total.usd\", \"out.x\", \"keep\", \"Utility Bills\", \"Natural Gas\", \"Natural Gas Total\", \"Total\"],\n",
    "    [\"out.bills_local.fuel_oil.total.usd\", \"out.x\", \"keep\", \"Utility Bills\", \"Fuel Oil\", \"Fuel Oil Total\", \"Total\"],\n",
    "    [\"out.bills_local.propane.total.usd\", \"out.x\", \"keep\", \"Utility Bills\", \"Propane\", \"Propane Total\", \"Total\"],\n",
    "    [\"out.bills_local.all_fuels.total.usd\", \"out.x\", \"keep\", \"Utility Bills\", \"Energy\", \"Total\", \"Total\"]\n",
    "]\n",
    "plan_for_new_cols_df = pd.DataFrame(plan_for_new_cols, columns = \n",
    "                                    ['column', 'col_type', 'plan', 'Result Type', 'Fuel', 'End Use', 'End Use Category'])\n",
    "col_plan = pd.concat([col_plan, plan_for_new_cols_df], axis = 0)"
   ]
  },
  {
   "cell_type": "code",
   "execution_count": 7,
   "metadata": {},
   "outputs": [],
   "source": [
    "###pivot the data\n",
    "data_long = pd.melt(\n",
    "    data,\n",
    "    id_vars = cols_wide,\n",
    "    var_name = 'Output',\n",
    "    value_name = 'Value'\n",
    ")"
   ]
  },
  {
   "cell_type": "code",
   "execution_count": 8,
   "metadata": {},
   "outputs": [],
   "source": [
    "###Develop output categorization\n",
    "#split original column name\n",
    "data_long[['out', 'Result', 'End Use', 'Type', 'Units']] = data_long['Output'].str.split('.', expand = True)\n",
    "#only keep the units\n",
    "data_long.drop(data_long[['out', 'Result', 'End Use', 'Type']], axis = 1, inplace = True)\n",
    "#use mappings to get the categorizations\n",
    "out_cats = col_plan.drop(col_plan[[\"col_type\", \"plan\"]], axis = 1, inplace = False)\n",
    "data_long = data_long.merge(out_cats, left_on = 'Output', right_on = \"column\", how = 'left')\n",
    "\n"
   ]
  },
  {
   "cell_type": "code",
   "execution_count": null,
   "metadata": {},
   "outputs": [],
   "source": [
    "### Add long file format fields\n"
   ]
  },
  {
   "cell_type": "code",
   "execution_count": 9,
   "metadata": {},
   "outputs": [],
   "source": [
    "### Add project-specific long fields\n",
    "## total utility bill, total emissions\n",
    "data_long = data_long.merge(data[[\"bldg_id\", \"out.bills_local.all_fuels.total.usd\", \"out.emissions.all_fuels.lrmer_mid_case_15.co2e_kg\"]], on=\"bldg_id\", how=\"left\")\n",
    "data_long.rename(columns = {\"out.emissions.all_fuels.lrmer_mid_case_15.co2e_kg\":\"Emissions\", \"out.bills_local.all_fuels.total.usd\":\"Utility Bill Total\"}, inplace=True)"
   ]
  },
  {
   "cell_type": "code",
   "execution_count": 10,
   "metadata": {},
   "outputs": [],
   "source": [
    "### Save long file\n",
    "\n",
    "data_long.to_csv(os.path.join(output_folder, output_file_name))"
   ]
  },
  {
   "cell_type": "code",
   "execution_count": null,
   "metadata": {},
   "outputs": [],
   "source": []
  }
 ],
 "metadata": {
  "kernelspec": {
   "display_name": "comstockpostproc",
   "language": "python",
   "name": "python3"
  },
  "language_info": {
   "codemirror_mode": {
    "name": "ipython",
    "version": 3
   },
   "file_extension": ".py",
   "mimetype": "text/x-python",
   "name": "python",
   "nbconvert_exporter": "python",
   "pygments_lexer": "ipython3",
   "version": "3.9.20"
  }
 },
 "nbformat": 4,
 "nbformat_minor": 2
}
